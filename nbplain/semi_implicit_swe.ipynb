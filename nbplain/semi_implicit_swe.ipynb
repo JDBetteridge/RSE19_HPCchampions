{
 "cells": [
  {
   "cell_type": "markdown",
   "metadata": {
    "slideshow": {
     "slide_type": "slide"
    }
   },
   "source": [
    "![](../images/banner.png)\n",
    "[Slides](./slides/semi_implicit_swe.html)"
   ]
  },
  {
   "cell_type": "markdown",
   "metadata": {
    "slideshow": {
     "slide_type": "slide"
    }
   },
   "source": [
    "Firedrake is a numerical PDEs framework that uses the Python programming language to solve PDEs that are expressed in weak form.\n",
    "This is achieved by using automatic code generation to write, compile and run the kernels.\n",
    "Python is an interpreted object oriented programming language which we can use to express the PDE problem without having to compile the code before running it.\n",
    "\n",
    "The weak form of the PDE problem, in our case the shallow water equations, first expressed in UFL and then the two stage form compiler (TSFC) takes this along with provided solver options generates, compiles and runs efficient C code to numerically solve the SWE."
   ]
  },
  {
   "cell_type": "markdown",
   "metadata": {
    "slideshow": {
     "slide_type": "slide"
    }
   },
   "source": [
    "# Semi-Implicit Shallow Water Equations\n",
    "\n",
    "### Spatial discretisation\n",
    "The linear Shallow Water Equations (SWE), linearised around the \"lake at rest\" are:\n",
    "\\begin{align}\n",
    "\t\\frac{\\partial \\phi_S}{\\partial t} + \\nabla\\cdot{\\boldsymbol{U}}\\hspace{5pt}\n",
    "\t&= 0\\\\\n",
    "\t\\frac{\\partial \\boldsymbol{U}}{\\partial t} + \\hspace{3pt} \\nabla{\\phi_S} \\hspace{4pt}\n",
    "\t&= -f(k\\times \\boldsymbol{U})\n",
    "\\end{align}"
   ]
  },
  {
   "cell_type": "markdown",
   "metadata": {
    "slideshow": {
     "slide_type": "subslide"
    }
   },
   "source": [
    "We collect $\\phi_S$ and $\\boldsymbol{U}$ into one vector $\\boldsymbol{q} = (\\phi_S, \\boldsymbol{U}^\\top)^\\top = (\\phi_S, U_1, U_2)^\\top$ and define the functions\n",
    "\\begin{equation}\n",
    "\t\\bar{F}\t=\n",
    "\t\\begin{pmatrix}\n",
    "\t\tU_1 & U_2\\\\\n",
    "\t\t\\phi_S &0\\\\\n",
    "\t\t0 & \\phi_S\n",
    "\t\\end{pmatrix},\n",
    "\t\\qquad\n",
    "\tS(\\boldsymbol{q}) = \\left( \n",
    "\t\\begin{array}{c}\n",
    "\t\t0\\\\\n",
    "\t\tfU_2 \\\\\n",
    "\t\t-fU_1\n",
    "\\end{array} \\right)\n",
    "\\end{equation}\n",
    "\n",
    "So we can write the SWE as a conservation law:\n",
    "\\begin{equation}\n",
    "\t\\frac{\\partial \\boldsymbol{q}}{\\partial t} + \\nabla\\cdot{F(\\boldsymbol{q})} = S(\\boldsymbol{q})\n",
    "\\end{equation}"
   ]
  },
  {
   "cell_type": "markdown",
   "metadata": {
    "slideshow": {
     "slide_type": "subslide"
    }
   },
   "source": [
    "To perform a Discontinuous Galerkin (DG) discretisation, we take $\\boldsymbol{q}_h$, an approximation to  $\\boldsymbol{q}$, in some discontinuous function space.\n",
    "\n",
    "We can is multiply this conservation law by a test function $\\boldsymbol{p}$, integrate over the domain and integrate by parts once.\n",
    "We use the Lax-Friedrich numerical flux for the internal boundaries, which is given by\n",
    "\\begin{align}\n",
    "F^*\\left( \\boldsymbol{q}_h^-, \\boldsymbol{q}_h^+ \\right)\n",
    "&= F^\\text{LF}\\left( \\boldsymbol{q}_h^-, \\boldsymbol{q}_h^+ \\right)\\\\\n",
    "&= \\frac{1}{2} \\left(  F(\\boldsymbol{q}_h^-) + F(\\boldsymbol{q}_h^+) \\right)\\\\\n",
    "&\\qquad+ \\frac{1}{2} |\\tau|\\left( \\boldsymbol{q}_h^-\\otimes\\boldsymbol{n}^-\n",
    "+\\boldsymbol{q}_h^+\\otimes\\boldsymbol{n}^+ \\right)\n",
    "\\end{align}\n",
    "where in this case $\\tau = 1$."
   ]
  },
  {
   "cell_type": "markdown",
   "metadata": {
    "slideshow": {
     "slide_type": "subslide"
    }
   },
   "source": [
    "Which gives us the weak form: Find $\\boldsymbol{q}_h$ such that\n",
    "\\begin{align}\n",
    "\\int_\\Omega \\frac{\\partial \\boldsymbol{q}_h}{\\partial t}\\cdot\\boldsymbol{p}\n",
    "-\\bar{F}(\\boldsymbol{q}_h):\\nabla{\\boldsymbol{p}}\\ dx&\\\\\n",
    "+\\int_\\Gamma [\\bar{F^*}(\\boldsymbol{q}_h^-, \\boldsymbol{q}_h^+)]\n",
    "&:[\\boldsymbol{p}^-\\otimes\\boldsymbol{n}^- + \\boldsymbol{p}^+\\otimes\\boldsymbol{n}^+]\\ ds\\\\\n",
    "&= \\int_\\Omega S(\\boldsymbol{q}_h)\\cdot\\boldsymbol{p} \\ dx,\n",
    "\\end{align}\n",
    "for all $\\boldsymbol{p}$ in the discontinuous function space."
   ]
  },
  {
   "cell_type": "markdown",
   "metadata": {
    "slideshow": {
     "slide_type": "slide"
    }
   },
   "source": [
    "### Time discretisation\n",
    "The theta method for a general time-dependent problem\n",
    "\\begin{equation}\n",
    "\t\\frac{d\\boldsymbol{q}}{dt} = f(\\boldsymbol{q}, t)\n",
    "\\end{equation}\n",
    "\n",
    "that we want to solve over some time interval $[0, T]$, using a suitably chosen timestep $\\Delta t$, can be written as\n",
    "\\begin{equation}\n",
    "\t\\boldsymbol{q}^{(n+1)} + (\\theta - 1)\\Delta t f(\\boldsymbol{q}^{(n+1)}, (n + 1)\\Delta t)\n",
    "\t= \\boldsymbol{q}^{(n)} + \\theta\\Delta t f(\\boldsymbol{q}^{(n)}, n\\Delta t).\n",
    "\\end{equation}\n",
    "\n",
    "This equation is then solved at every timestep to get the next timestep, until the final time $T$ is reached.\n",
    "This is achieved by using a simple loop.\n",
    "The solve can be performed using the solver we set up later."
   ]
  },
  {
   "cell_type": "markdown",
   "metadata": {
    "slideshow": {
     "slide_type": "subslide"
    }
   },
   "source": [
    "For the weak form of the SWE we defined, we can further define the four bilinear forms\n",
    "\\begin{align}\n",
    "\\mathcal{M}(\\boldsymbol{q}_h, \\boldsymbol{p})\n",
    "&:= \\int_\\Omega \\boldsymbol{q}_h \\cdot\\boldsymbol{p}\\ dx\\\\\n",
    "\\mathcal{D}(\\boldsymbol{q}_h, \\boldsymbol{p})\n",
    "&:= \\int_\\Omega \\bar{F}(\\boldsymbol{q}_h):\\nabla{\\boldsymbol{p}}\\ dx\\\\\n",
    "\\mathcal{F}(\\boldsymbol{q}_h, \\boldsymbol{p})\n",
    "&:= \\int_\\Gamma \\left[\\bar{F^*}(\\boldsymbol{q}_h^-, \\boldsymbol{q}_h^+)\\right]\n",
    ":\\left[\\boldsymbol{p}^-\\otimes\\boldsymbol{n}^-\n",
    "+\\boldsymbol{p}^+\\otimes\\boldsymbol{n}^+ \\right]\\ ds\\\\\n",
    "\\mathcal{S}(\\boldsymbol{q}_h, \\boldsymbol{p})\n",
    "&:= \\int_\\Omega S(\\boldsymbol{q}_h)\\cdot\\boldsymbol{p} \\ dx.\n",
    "\\end{align}"
   ]
  },
  {
   "cell_type": "markdown",
   "metadata": {
    "slideshow": {
     "slide_type": "subslide"
    }
   },
   "source": [
    "If we use the theta method for timestepping we can write the above weak form as\n",
    "\\begin{equation}\n",
    "\t\\left[ \\mathcal{M} + (\\theta - 1)\\Delta t (\\mathcal{D} - \\mathcal{F} + \\mathcal{S}) \\right]\n",
    "        (\\boldsymbol{q}_h^{(n+1)}, \\boldsymbol{p})\\\\\n",
    "\t\\hspace{8em}= \\left[ \\mathcal{M} + \\theta\\Delta t (\\mathcal{D} - \\mathcal{F} + \\mathcal{S}) \\right]\n",
    "        (\\boldsymbol{q}_h^{(n)}, \\boldsymbol{p}).\n",
    "\\end{equation}\n",
    "\n",
    "Since the right-hand side of the equation uses the solution at the current timestep $\\boldsymbol{q}_h^{(n)}$, which is known data, the whole right-hand side is a linear functional."
   ]
  },
  {
   "cell_type": "markdown",
   "metadata": {
    "slideshow": {
     "slide_type": "slide"
    }
   },
   "source": [
    "## Implementation\n",
    "\n",
    "To start we hard code various constants that will be used for this script.\n",
    "We set up the mesh we will solve the SWE on as a periodic square mesh of quadrilaterals over the domain $[0, 4]\\times[0, 4]$.\n",
    "\n",
    "We then set up DG function spaces that use polynomials of at most degree 2.\n",
    "In the code we name the discontinuous function spaces `Phi` and `U`.\n",
    "The product function space $\\Phi_h\\times\\mathcal{U}_h$ can also be constructed, which is where the test and trial functions live.\n",
    "With these functions spaces we can make general functions as well as special test and trial functions, that will allow for the expression of the SWE PDE, which is done using UFL."
   ]
  },
  {
   "cell_type": "code",
   "execution_count": 1,
   "metadata": {
    "slideshow": {
     "slide_type": "skip"
    }
   },
   "outputs": [
    {
     "name": "stdout",
     "output_type": "stream",
     "text": [
      "/home/jack/Documents/firedrake/firedrake/bin/python\n"
     ]
    }
   ],
   "source": [
    "%matplotlib notebook\n",
    "\n",
    "import sys\n",
    "print(sys.executable)\n",
    "\n",
    "# If built with static PETSc\n",
    "import os\n",
    "os.environ['PETSC_ARCH'] = 'arch-python-linux-x86_64'\n",
    "os.environ['PETSC_DIR'] = '/home/jack/Documents/petsc'\n",
    "\n",
    "# If Firedrake installed PETSc\n",
    "del os.environ['PETSC_ARCH']\n",
    "del os.environ['PETSC_DIR']\n",
    "\n",
    "import matplotlib.pyplot as plt\n",
    "from firedrake.plot import _plot_mult"
   ]
  },
  {
   "cell_type": "code",
   "execution_count": 2,
   "metadata": {
    "slideshow": {
     "slide_type": "subslide"
    }
   },
   "outputs": [],
   "source": [
    "from firedrake import *\n",
    "\n",
    "# Number of elements and degree\n",
    "elts = 20\n",
    "degree = 2\n",
    "\n",
    "# Timestepping parameters\n",
    "T = 2.0\n",
    "dt = 1/400\n",
    "theta = 0.5"
   ]
  },
  {
   "cell_type": "code",
   "execution_count": 3,
   "metadata": {
    "slideshow": {
     "slide_type": "subslide"
    }
   },
   "outputs": [
    {
     "name": "stderr",
     "output_type": "stream",
     "text": [
      "UFL:WARNING Discontinuous Lagrange element requested on quadrilateral, creating DQ element.\n",
      "UFL:WARNING Discontinuous Lagrange element requested on quadrilateral, creating DQ element.\n"
     ]
    }
   ],
   "source": [
    "# Specify mesh\n",
    "mesh = PeriodicSquareMesh(elts, elts, 4.0, quadrilateral=True)\n",
    "\n",
    "# Define function spaces\n",
    "Phi = FunctionSpace(mesh, 'DG', degree)\n",
    "U = VectorFunctionSpace(mesh, 'DG', degree)\n",
    "PhiU = Phi*U\n",
    "\n",
    "# Initialise functions\n",
    "phi_s = Function(Phi)\n",
    "u = Function(U)\n",
    "\n",
    "q = Function(PhiU)\n",
    "p = TestFunction(PhiU)\n",
    "q_next = TrialFunction(PhiU)"
   ]
  },
  {
   "cell_type": "markdown",
   "metadata": {
    "slideshow": {
     "slide_type": "slide"
    }
   },
   "source": [
    "### UFL\n",
    "The Unified Form Language (UFL) is developed as part of the FEniCS project, but has since been used to express weak forms in other projects, including Firedrake.\n",
    "Its purpose in the Firedrake toolchain is for expressing weak forms in computer code, it is a Domain Specific Language (DSL) built on top of Python.\n",
    "\n",
    "UFL itself does not try and solve the problem in weak form, merely express what is written mathematically.\n",
    "It is then the job of a _form compiler_ to take the mathematical expression and generate the code that will numerically solve the PDE.\n",
    "The Firedrake form compiler is TSFC.\n",
    "What form compiling means in practise is that the finite element matrix is assembled and a solver is used to compute the solution."
   ]
  },
  {
   "cell_type": "markdown",
   "metadata": {
    "slideshow": {
     "slide_type": "subslide"
    }
   },
   "source": [
    "We use UFL to define the initial condition for the SWE problem and the bilinear form that we must use for timestepping.\n",
    "We start with an initial condition that is a two dimensional Gaussian bump, centred on the coordinate $(2, 2)$ for the height potential, and 0 for the momentum.\n",
    "This is given by the functions:\n",
    "\\begin{align}\n",
    "\t\\phi_s(\\boldsymbol{x}, 0) &= 0.1 \\times e^{-8 \\left[ (x_1 - 2)^2 + (x_2 - 2)^2 \\right]}\\\\\n",
    "\t\\boldsymbol{u}(\\boldsymbol{x}, 0) &= \\boldsymbol{0}\n",
    "\\end{align}\n",
    "\n",
    "Compare this to the code, which is almost identical to the mathematical expression.\n",
    "This demonstrates the power of UFL, one can almost immediately go from a mathematical expression to a representation of the same thing in code."
   ]
  },
  {
   "cell_type": "code",
   "execution_count": 4,
   "metadata": {
    "slideshow": {
     "slide_type": "subslide"
    }
   },
   "outputs": [
    {
     "data": {
      "text/plain": [
       "Coefficient(WithGeometry(IndexedProxyFunctionSpace(<firedrake.mesh.MeshTopology object at 0x7fe18809cd10>, VectorElement(FiniteElement('DQ', quadrilateral, 2), dim=2), name=None, index=1, component=None), Mesh(VectorElement(FiniteElement('DQ', quadrilateral, 1), dim=2), 4)), 20)"
      ]
     },
     "execution_count": 4,
     "metadata": {},
     "output_type": "execute_result"
    }
   ],
   "source": [
    "# Coordinate system\n",
    "x = SpatialCoordinate(mesh)\n",
    "\n",
    "# Initial conditions\n",
    "# Potential\n",
    "ic = 0.1*exp(-8.0*( (x[0] - 2.0)**2 + (x[1] - 2.0)**2) )\n",
    "phi_s.interpolate(ic)\n",
    "# Momentum\n",
    "u.assign(as_vector([0.0, 0.0]))\n",
    "\n",
    "# Assign q to values of phi and u\n",
    "q.sub(0).assign(phi_s)\n",
    "q.sub(1).assign(u)"
   ]
  },
  {
   "cell_type": "markdown",
   "metadata": {
    "slideshow": {
     "slide_type": "subslide"
    }
   },
   "source": [
    "UFL is also used to express the weak form that we derived.\n",
    "Since the left and right of our timestepping equation are so similar, we can use a Python function to return both the bilinear form for the left-hand side and the linear form on the right.\n",
    "\n",
    "This is seen in the second part of the follwoing code, where `M`, `D`, `F` and `S` correspond to the bilinear forms $\\mathcal{M}, \\mathcal{D}, \\mathcal{F}, \\mathcal{S}$ .\n",
    "The function is called when we set up solvers for this problem."
   ]
  },
  {
   "cell_type": "code",
   "execution_count": 5,
   "metadata": {
    "slideshow": {
     "slide_type": "subslide"
    }
   },
   "outputs": [],
   "source": [
    "## Bilinear form\n",
    "def bilinear_form(q, p, theta, dt):\n",
    "    phi_s, u = split(q)\n",
    "    # Mass terms\n",
    "    M = ( dot(q, p) )*dx\n",
    "    # Volume integral\n",
    "    # Source\n",
    "    f_corriolis = Constant(1E-4)\n",
    "    source = as_vector([Function(Phi).assign(0.0),\\\n",
    "                        +f_corriolis*u[1],        \\\n",
    "                        -f_corriolis*u[0]         ])\n",
    "    S = ( dot(source, p) )*dx\n",
    "    # Flux\n",
    "    flux = as_matrix([ [u[0],  u[1] ],\\\n",
    "                       [phi_s, 0    ],\\\n",
    "                       [0,     phi_s] ])\n",
    "    D = ( inner(flux, grad(p)) )*dx\n",
    "    # Numerical Flux\n",
    "    n = FacetNormal(mesh)\n",
    "    tau = Constant(1.0)\n",
    "    F = inner( avg(flux) + tau*avg(outer(q, n)), 2*avg(outer(p, n)) )*dS\n",
    "    # Final form(s)\n",
    "    L = D - F + S\n",
    "    return M - Constant(theta)*Constant(dt)*L"
   ]
  },
  {
   "cell_type": "markdown",
   "metadata": {
    "slideshow": {
     "slide_type": "slide"
    }
   },
   "source": [
    "### PETSc\n",
    "The Portable, Extensible Toolkit for Scientific Computation (PETSc) is an extensive collection of solvers and a unified set of data structures for vectors and matrices.\n",
    "It is used by many finite element packages to solve the underlying linear (and non-linear) systems that arise, and Firedrake is no exception.\n",
    "\n",
    "PETSc itself is written in the C language, although it does have a Python interface.\n",
    "Firedrake generates C code that uses the PETSc data structures for solving the matrix problems generated by the form compiler.\n",
    "By using the PETSc data structures, Firedrake has access to PETSc's library of solvers.\n",
    "\n",
    "PETSc is designed and written to be used in parallel, which means that most solver routines and data structures work in parallel without modification."
   ]
  },
  {
   "cell_type": "markdown",
   "metadata": {
    "slideshow": {
     "slide_type": "subslide"
    }
   },
   "source": [
    "Each of the solvers in PETSc's library of solvers can be controlled with a range of options.\n",
    "These options can either be passed at the command line, or as a dictionary of parameters through Firedrake.\n",
    "We can also combine together different solvers, that is, they are composable.\n",
    "\n",
    "PETSc also provides the tools to print out exactly what it is doing at each step of a solve and tools to monitor the convergence of the solve.\n",
    "This allows for solvers to be tuned to the specific problem, by allowing the tolerances to be tightened or loosened or allowing for more or fewer iterations."
   ]
  },
  {
   "cell_type": "code",
   "execution_count": 6,
   "metadata": {
    "slideshow": {
     "slide_type": "subslide"
    }
   },
   "outputs": [],
   "source": [
    "# Basic parameters for CG\n",
    "params = {'ksp_type': 'cg', 'ksp_atol': 1E-8}"
   ]
  },
  {
   "cell_type": "markdown",
   "metadata": {
    "slideshow": {
     "slide_type": "slide"
    }
   },
   "source": [
    "### Preconditioning\n",
    "We can improve the convergence of our solver by setting a suitable preconditioner.\n",
    "As we are not guaranteed a symmetric positive definite system matrix using a DG discretisation, the \"outer\" solver we use is GMRES.\n",
    "We will halt the GMRES algorithm when the reletive residual error is less than $1\\times10^{-8}$.\n",
    "\n",
    "The GMRES solver is preconditioned using a Schur factorisation, which in PETSc is a type of field splitting preconditioner.\n",
    "So termed because in the SWE we break apart the system matrix into the potential height and momentum fields.\n",
    "We explicitly tell PETSc to construct the _full_ Schur complement factorisation, PETSc will allow us to use the upper, lower or diagonal blocks of the factorisation if we want a different preconditioner."
   ]
  },
  {
   "cell_type": "markdown",
   "metadata": {
    "slideshow": {
     "slide_type": "subslide"
    }
   },
   "source": [
    "To obtain a diagonal approximation for the momentum block, specified in `fieldsplit_1` parameters, we use a combination of block Jacobi and an incomplete $LU$ factorisation, which results in a diagonal approximation to the inverse of this block.\n",
    "\n",
    "PETSc never constructs the Schur complement for the other block, which we specify using `fieldsplit_0` paramaters.\n",
    "Instead the action of the inverse is applied using a solver, in this case we use Algebraic MultiGrid (AMG) as the 'inner' solver."
   ]
  },
  {
   "cell_type": "code",
   "execution_count": 7,
   "metadata": {
    "slideshow": {
     "slide_type": "subslide"
    }
   },
   "outputs": [],
   "source": [
    "# Approximate Schur complement preconditioner\n",
    "params = {  'ksp_type': 'gmres',\n",
    "            'ksp_rtol': 1E-8,\n",
    "            'pc_type': 'fieldsplit',\n",
    "            'pc_fieldsplit_type': 'schur',\n",
    "            'pc_fieldsplit_schur_fact_type': 'FULL',\n",
    "            'pc_fieldsplit_schur_precondition': 'selfp',\n",
    "            'fieldsplit_0': {'ksp_type': 'preonly',\n",
    "                             'pc_type': 'gamg',\n",
    "                             'mg_levels': {'ksp_type': 'chebyshev',\n",
    "                                           'ksp_max_it': 2,\n",
    "                                           'pc_type': 'bjacobi',\n",
    "                                           'sub_pc_type': 'sor'}},\n",
    "            'fieldsplit_1': {'ksp_type': 'preonly',\n",
    "                             'pc_type': 'bjacobi',\n",
    "                             'sub_pc_type': 'ilu'}}"
   ]
  },
  {
   "cell_type": "code",
   "execution_count": 8,
   "metadata": {
    "slideshow": {
     "slide_type": "subslide"
    }
   },
   "outputs": [],
   "source": [
    "# Set the left and right hand sides\n",
    "a = bilinear_form(q_next, p, theta, dt)\n",
    "b = bilinear_form(q, p, (theta - 1), dt)\n",
    "\n",
    "# Setup some solvers to speed things up\n",
    "q_step = Function(PhiU)\n",
    "problem = LinearVariationalProblem(a, b, q_step)\n",
    "solver = LinearVariationalSolver(problem, solver_parameters=params)"
   ]
  },
  {
   "cell_type": "markdown",
   "metadata": {
    "slideshow": {
     "slide_type": "slide"
    }
   },
   "source": [
    "### Timestepping\n",
    "Firedrake does not provide general purpose timesteppers to solve time dependent problems and we must implement our own.\n",
    "For our numerical experiments we will use the theta method.\n",
    "\n",
    "The following code demonstrates how the theta method can be implemented."
   ]
  },
  {
   "cell_type": "code",
   "execution_count": 9,
   "metadata": {
    "slideshow": {
     "slide_type": "subslide"
    }
   },
   "outputs": [],
   "source": [
    "# Timestep variables\n",
    "t = 0\n",
    "step = 0\n",
    "\n",
    "# Notebook output\n",
    "phi_fn = Function(Phi)\n",
    "phi_fn, u_fn = q.split()\n",
    "output_list = [Function(phi_fn)]"
   ]
  },
  {
   "cell_type": "code",
   "execution_count": 10,
   "metadata": {
    "slideshow": {
     "slide_type": "skip"
    }
   },
   "outputs": [],
   "source": [
    "# Output file\n",
    "#outfile = File('output/swe.pvd')\n",
    "#phi_fn = Function(Phi)\n",
    "#u_fn = Function(U)\n",
    "#phi_fn, u_fn = q.split()\n",
    "#phi_fn.rename('potential')\n",
    "#u_fn.rename('momentum')\n",
    "#outfile.write(phi_fn, u_fn, time=t)"
   ]
  },
  {
   "cell_type": "code",
   "execution_count": 11,
   "metadata": {
    "slideshow": {
     "slide_type": "subslide"
    }
   },
   "outputs": [
    {
     "name": "stdout",
     "output_type": "stream",
     "text": [
      "0.10, 0.20, 0.30, 0.40, 0.50, 0.60, 0.70, 0.80, 0.90, 1.00, 1.10, 1.20, 1.30, 1.40, 1.50, 1.60, 1.70, 1.80, 1.90, 2.00, "
     ]
    }
   ],
   "source": [
    "# Timestepping loop\n",
    "while t <= T:\n",
    "    solver.solve()\n",
    "    q.assign(q_step)\n",
    "    t += dt\n",
    "    step += 1\n",
    "    # Write output file every 40 timesteps\n",
    "    if (step%40 == 0):\n",
    "        print('{:.2f}'.format(t), end=', ')\n",
    "        phi_fn, u_fn = q.split()\n",
    "        #outfile.write(phi_fn, u_fn, time=t)\n",
    "        output_list.append(Function(phi_fn))"
   ]
  },
  {
   "cell_type": "markdown",
   "metadata": {
    "slideshow": {
     "slide_type": "slide"
    }
   },
   "source": [
    "### Result\n",
    "The solution can now be visualised.\n",
    "We _could_ create a file to save the output and write the initial condition to this file.\n",
    "In the timestepping loop, every 40 timesteps we save the solution at the current timestep to a list, we could save this to a file instead.\n",
    "Firedrake supports writing VTK files, that can be visualised using the Paraview tool.\n",
    "\n",
    "By outputting the timesteps of the simulation, it is possible to check the solution.\n",
    "Here we can see the ripples radiating from the centre of the domain, $(2, 2)$, which is where the initial Gaussian was centred.\n",
    "A view of the output can be seen below."
   ]
  },
  {
   "cell_type": "code",
   "execution_count": 12,
   "metadata": {
    "scrolled": false,
    "slideshow": {
     "slide_type": "subslide"
    }
   },
   "outputs": [
    {
     "data": {
      "application/javascript": [
       "/* Put everything inside the global mpl namespace */\n",
       "window.mpl = {};\n",
       "\n",
       "\n",
       "mpl.get_websocket_type = function() {\n",
       "    if (typeof(WebSocket) !== 'undefined') {\n",
       "        return WebSocket;\n",
       "    } else if (typeof(MozWebSocket) !== 'undefined') {\n",
       "        return MozWebSocket;\n",
       "    } else {\n",
       "        alert('Your browser does not have WebSocket support. ' +\n",
       "              'Please try Chrome, Safari or Firefox ≥ 6. ' +\n",
       "              'Firefox 4 and 5 are also supported but you ' +\n",
       "              'have to enable WebSockets in about:config.');\n",
       "    };\n",
       "}\n",
       "\n",
       "mpl.figure = function(figure_id, websocket, ondownload, parent_element) {\n",
       "    this.id = figure_id;\n",
       "\n",
       "    this.ws = websocket;\n",
       "\n",
       "    this.supports_binary = (this.ws.binaryType != undefined);\n",
       "\n",
       "    if (!this.supports_binary) {\n",
       "        var warnings = document.getElementById(\"mpl-warnings\");\n",
       "        if (warnings) {\n",
       "            warnings.style.display = 'block';\n",
       "            warnings.textContent = (\n",
       "                \"This browser does not support binary websocket messages. \" +\n",
       "                    \"Performance may be slow.\");\n",
       "        }\n",
       "    }\n",
       "\n",
       "    this.imageObj = new Image();\n",
       "\n",
       "    this.context = undefined;\n",
       "    this.message = undefined;\n",
       "    this.canvas = undefined;\n",
       "    this.rubberband_canvas = undefined;\n",
       "    this.rubberband_context = undefined;\n",
       "    this.format_dropdown = undefined;\n",
       "\n",
       "    this.image_mode = 'full';\n",
       "\n",
       "    this.root = $('<div/>');\n",
       "    this._root_extra_style(this.root)\n",
       "    this.root.attr('style', 'display: inline-block');\n",
       "\n",
       "    $(parent_element).append(this.root);\n",
       "\n",
       "    this._init_header(this);\n",
       "    this._init_canvas(this);\n",
       "    this._init_toolbar(this);\n",
       "\n",
       "    var fig = this;\n",
       "\n",
       "    this.waiting = false;\n",
       "\n",
       "    this.ws.onopen =  function () {\n",
       "            fig.send_message(\"supports_binary\", {value: fig.supports_binary});\n",
       "            fig.send_message(\"send_image_mode\", {});\n",
       "            if (mpl.ratio != 1) {\n",
       "                fig.send_message(\"set_dpi_ratio\", {'dpi_ratio': mpl.ratio});\n",
       "            }\n",
       "            fig.send_message(\"refresh\", {});\n",
       "        }\n",
       "\n",
       "    this.imageObj.onload = function() {\n",
       "            if (fig.image_mode == 'full') {\n",
       "                // Full images could contain transparency (where diff images\n",
       "                // almost always do), so we need to clear the canvas so that\n",
       "                // there is no ghosting.\n",
       "                fig.context.clearRect(0, 0, fig.canvas.width, fig.canvas.height);\n",
       "            }\n",
       "            fig.context.drawImage(fig.imageObj, 0, 0);\n",
       "        };\n",
       "\n",
       "    this.imageObj.onunload = function() {\n",
       "        fig.ws.close();\n",
       "    }\n",
       "\n",
       "    this.ws.onmessage = this._make_on_message_function(this);\n",
       "\n",
       "    this.ondownload = ondownload;\n",
       "}\n",
       "\n",
       "mpl.figure.prototype._init_header = function() {\n",
       "    var titlebar = $(\n",
       "        '<div class=\"ui-dialog-titlebar ui-widget-header ui-corner-all ' +\n",
       "        'ui-helper-clearfix\"/>');\n",
       "    var titletext = $(\n",
       "        '<div class=\"ui-dialog-title\" style=\"width: 100%; ' +\n",
       "        'text-align: center; padding: 3px;\"/>');\n",
       "    titlebar.append(titletext)\n",
       "    this.root.append(titlebar);\n",
       "    this.header = titletext[0];\n",
       "}\n",
       "\n",
       "\n",
       "\n",
       "mpl.figure.prototype._canvas_extra_style = function(canvas_div) {\n",
       "\n",
       "}\n",
       "\n",
       "\n",
       "mpl.figure.prototype._root_extra_style = function(canvas_div) {\n",
       "\n",
       "}\n",
       "\n",
       "mpl.figure.prototype._init_canvas = function() {\n",
       "    var fig = this;\n",
       "\n",
       "    var canvas_div = $('<div/>');\n",
       "\n",
       "    canvas_div.attr('style', 'position: relative; clear: both; outline: 0');\n",
       "\n",
       "    function canvas_keyboard_event(event) {\n",
       "        return fig.key_event(event, event['data']);\n",
       "    }\n",
       "\n",
       "    canvas_div.keydown('key_press', canvas_keyboard_event);\n",
       "    canvas_div.keyup('key_release', canvas_keyboard_event);\n",
       "    this.canvas_div = canvas_div\n",
       "    this._canvas_extra_style(canvas_div)\n",
       "    this.root.append(canvas_div);\n",
       "\n",
       "    var canvas = $('<canvas/>');\n",
       "    canvas.addClass('mpl-canvas');\n",
       "    canvas.attr('style', \"left: 0; top: 0; z-index: 0; outline: 0\")\n",
       "\n",
       "    this.canvas = canvas[0];\n",
       "    this.context = canvas[0].getContext(\"2d\");\n",
       "\n",
       "    var backingStore = this.context.backingStorePixelRatio ||\n",
       "\tthis.context.webkitBackingStorePixelRatio ||\n",
       "\tthis.context.mozBackingStorePixelRatio ||\n",
       "\tthis.context.msBackingStorePixelRatio ||\n",
       "\tthis.context.oBackingStorePixelRatio ||\n",
       "\tthis.context.backingStorePixelRatio || 1;\n",
       "\n",
       "    mpl.ratio = (window.devicePixelRatio || 1) / backingStore;\n",
       "\n",
       "    var rubberband = $('<canvas/>');\n",
       "    rubberband.attr('style', \"position: absolute; left: 0; top: 0; z-index: 1;\")\n",
       "\n",
       "    var pass_mouse_events = true;\n",
       "\n",
       "    canvas_div.resizable({\n",
       "        start: function(event, ui) {\n",
       "            pass_mouse_events = false;\n",
       "        },\n",
       "        resize: function(event, ui) {\n",
       "            fig.request_resize(ui.size.width, ui.size.height);\n",
       "        },\n",
       "        stop: function(event, ui) {\n",
       "            pass_mouse_events = true;\n",
       "            fig.request_resize(ui.size.width, ui.size.height);\n",
       "        },\n",
       "    });\n",
       "\n",
       "    function mouse_event_fn(event) {\n",
       "        if (pass_mouse_events)\n",
       "            return fig.mouse_event(event, event['data']);\n",
       "    }\n",
       "\n",
       "    rubberband.mousedown('button_press', mouse_event_fn);\n",
       "    rubberband.mouseup('button_release', mouse_event_fn);\n",
       "    // Throttle sequential mouse events to 1 every 20ms.\n",
       "    rubberband.mousemove('motion_notify', mouse_event_fn);\n",
       "\n",
       "    rubberband.mouseenter('figure_enter', mouse_event_fn);\n",
       "    rubberband.mouseleave('figure_leave', mouse_event_fn);\n",
       "\n",
       "    canvas_div.on(\"wheel\", function (event) {\n",
       "        event = event.originalEvent;\n",
       "        event['data'] = 'scroll'\n",
       "        if (event.deltaY < 0) {\n",
       "            event.step = 1;\n",
       "        } else {\n",
       "            event.step = -1;\n",
       "        }\n",
       "        mouse_event_fn(event);\n",
       "    });\n",
       "\n",
       "    canvas_div.append(canvas);\n",
       "    canvas_div.append(rubberband);\n",
       "\n",
       "    this.rubberband = rubberband;\n",
       "    this.rubberband_canvas = rubberband[0];\n",
       "    this.rubberband_context = rubberband[0].getContext(\"2d\");\n",
       "    this.rubberband_context.strokeStyle = \"#000000\";\n",
       "\n",
       "    this._resize_canvas = function(width, height) {\n",
       "        // Keep the size of the canvas, canvas container, and rubber band\n",
       "        // canvas in synch.\n",
       "        canvas_div.css('width', width)\n",
       "        canvas_div.css('height', height)\n",
       "\n",
       "        canvas.attr('width', width * mpl.ratio);\n",
       "        canvas.attr('height', height * mpl.ratio);\n",
       "        canvas.attr('style', 'width: ' + width + 'px; height: ' + height + 'px;');\n",
       "\n",
       "        rubberband.attr('width', width);\n",
       "        rubberband.attr('height', height);\n",
       "    }\n",
       "\n",
       "    // Set the figure to an initial 600x600px, this will subsequently be updated\n",
       "    // upon first draw.\n",
       "    this._resize_canvas(600, 600);\n",
       "\n",
       "    // Disable right mouse context menu.\n",
       "    $(this.rubberband_canvas).bind(\"contextmenu\",function(e){\n",
       "        return false;\n",
       "    });\n",
       "\n",
       "    function set_focus () {\n",
       "        canvas.focus();\n",
       "        canvas_div.focus();\n",
       "    }\n",
       "\n",
       "    window.setTimeout(set_focus, 100);\n",
       "}\n",
       "\n",
       "mpl.figure.prototype._init_toolbar = function() {\n",
       "    var fig = this;\n",
       "\n",
       "    var nav_element = $('<div/>');\n",
       "    nav_element.attr('style', 'width: 100%');\n",
       "    this.root.append(nav_element);\n",
       "\n",
       "    // Define a callback function for later on.\n",
       "    function toolbar_event(event) {\n",
       "        return fig.toolbar_button_onclick(event['data']);\n",
       "    }\n",
       "    function toolbar_mouse_event(event) {\n",
       "        return fig.toolbar_button_onmouseover(event['data']);\n",
       "    }\n",
       "\n",
       "    for(var toolbar_ind in mpl.toolbar_items) {\n",
       "        var name = mpl.toolbar_items[toolbar_ind][0];\n",
       "        var tooltip = mpl.toolbar_items[toolbar_ind][1];\n",
       "        var image = mpl.toolbar_items[toolbar_ind][2];\n",
       "        var method_name = mpl.toolbar_items[toolbar_ind][3];\n",
       "\n",
       "        if (!name) {\n",
       "            // put a spacer in here.\n",
       "            continue;\n",
       "        }\n",
       "        var button = $('<button/>');\n",
       "        button.addClass('ui-button ui-widget ui-state-default ui-corner-all ' +\n",
       "                        'ui-button-icon-only');\n",
       "        button.attr('role', 'button');\n",
       "        button.attr('aria-disabled', 'false');\n",
       "        button.click(method_name, toolbar_event);\n",
       "        button.mouseover(tooltip, toolbar_mouse_event);\n",
       "\n",
       "        var icon_img = $('<span/>');\n",
       "        icon_img.addClass('ui-button-icon-primary ui-icon');\n",
       "        icon_img.addClass(image);\n",
       "        icon_img.addClass('ui-corner-all');\n",
       "\n",
       "        var tooltip_span = $('<span/>');\n",
       "        tooltip_span.addClass('ui-button-text');\n",
       "        tooltip_span.html(tooltip);\n",
       "\n",
       "        button.append(icon_img);\n",
       "        button.append(tooltip_span);\n",
       "\n",
       "        nav_element.append(button);\n",
       "    }\n",
       "\n",
       "    var fmt_picker_span = $('<span/>');\n",
       "\n",
       "    var fmt_picker = $('<select/>');\n",
       "    fmt_picker.addClass('mpl-toolbar-option ui-widget ui-widget-content');\n",
       "    fmt_picker_span.append(fmt_picker);\n",
       "    nav_element.append(fmt_picker_span);\n",
       "    this.format_dropdown = fmt_picker[0];\n",
       "\n",
       "    for (var ind in mpl.extensions) {\n",
       "        var fmt = mpl.extensions[ind];\n",
       "        var option = $(\n",
       "            '<option/>', {selected: fmt === mpl.default_extension}).html(fmt);\n",
       "        fmt_picker.append(option);\n",
       "    }\n",
       "\n",
       "    // Add hover states to the ui-buttons\n",
       "    $( \".ui-button\" ).hover(\n",
       "        function() { $(this).addClass(\"ui-state-hover\");},\n",
       "        function() { $(this).removeClass(\"ui-state-hover\");}\n",
       "    );\n",
       "\n",
       "    var status_bar = $('<span class=\"mpl-message\"/>');\n",
       "    nav_element.append(status_bar);\n",
       "    this.message = status_bar[0];\n",
       "}\n",
       "\n",
       "mpl.figure.prototype.request_resize = function(x_pixels, y_pixels) {\n",
       "    // Request matplotlib to resize the figure. Matplotlib will then trigger a resize in the client,\n",
       "    // which will in turn request a refresh of the image.\n",
       "    this.send_message('resize', {'width': x_pixels, 'height': y_pixels});\n",
       "}\n",
       "\n",
       "mpl.figure.prototype.send_message = function(type, properties) {\n",
       "    properties['type'] = type;\n",
       "    properties['figure_id'] = this.id;\n",
       "    this.ws.send(JSON.stringify(properties));\n",
       "}\n",
       "\n",
       "mpl.figure.prototype.send_draw_message = function() {\n",
       "    if (!this.waiting) {\n",
       "        this.waiting = true;\n",
       "        this.ws.send(JSON.stringify({type: \"draw\", figure_id: this.id}));\n",
       "    }\n",
       "}\n",
       "\n",
       "\n",
       "mpl.figure.prototype.handle_save = function(fig, msg) {\n",
       "    var format_dropdown = fig.format_dropdown;\n",
       "    var format = format_dropdown.options[format_dropdown.selectedIndex].value;\n",
       "    fig.ondownload(fig, format);\n",
       "}\n",
       "\n",
       "\n",
       "mpl.figure.prototype.handle_resize = function(fig, msg) {\n",
       "    var size = msg['size'];\n",
       "    if (size[0] != fig.canvas.width || size[1] != fig.canvas.height) {\n",
       "        fig._resize_canvas(size[0], size[1]);\n",
       "        fig.send_message(\"refresh\", {});\n",
       "    };\n",
       "}\n",
       "\n",
       "mpl.figure.prototype.handle_rubberband = function(fig, msg) {\n",
       "    var x0 = msg['x0'] / mpl.ratio;\n",
       "    var y0 = (fig.canvas.height - msg['y0']) / mpl.ratio;\n",
       "    var x1 = msg['x1'] / mpl.ratio;\n",
       "    var y1 = (fig.canvas.height - msg['y1']) / mpl.ratio;\n",
       "    x0 = Math.floor(x0) + 0.5;\n",
       "    y0 = Math.floor(y0) + 0.5;\n",
       "    x1 = Math.floor(x1) + 0.5;\n",
       "    y1 = Math.floor(y1) + 0.5;\n",
       "    var min_x = Math.min(x0, x1);\n",
       "    var min_y = Math.min(y0, y1);\n",
       "    var width = Math.abs(x1 - x0);\n",
       "    var height = Math.abs(y1 - y0);\n",
       "\n",
       "    fig.rubberband_context.clearRect(\n",
       "        0, 0, fig.canvas.width / mpl.ratio, fig.canvas.height / mpl.ratio);\n",
       "\n",
       "    fig.rubberband_context.strokeRect(min_x, min_y, width, height);\n",
       "}\n",
       "\n",
       "mpl.figure.prototype.handle_figure_label = function(fig, msg) {\n",
       "    // Updates the figure title.\n",
       "    fig.header.textContent = msg['label'];\n",
       "}\n",
       "\n",
       "mpl.figure.prototype.handle_cursor = function(fig, msg) {\n",
       "    var cursor = msg['cursor'];\n",
       "    switch(cursor)\n",
       "    {\n",
       "    case 0:\n",
       "        cursor = 'pointer';\n",
       "        break;\n",
       "    case 1:\n",
       "        cursor = 'default';\n",
       "        break;\n",
       "    case 2:\n",
       "        cursor = 'crosshair';\n",
       "        break;\n",
       "    case 3:\n",
       "        cursor = 'move';\n",
       "        break;\n",
       "    }\n",
       "    fig.rubberband_canvas.style.cursor = cursor;\n",
       "}\n",
       "\n",
       "mpl.figure.prototype.handle_message = function(fig, msg) {\n",
       "    fig.message.textContent = msg['message'];\n",
       "}\n",
       "\n",
       "mpl.figure.prototype.handle_draw = function(fig, msg) {\n",
       "    // Request the server to send over a new figure.\n",
       "    fig.send_draw_message();\n",
       "}\n",
       "\n",
       "mpl.figure.prototype.handle_image_mode = function(fig, msg) {\n",
       "    fig.image_mode = msg['mode'];\n",
       "}\n",
       "\n",
       "mpl.figure.prototype.updated_canvas_event = function() {\n",
       "    // Called whenever the canvas gets updated.\n",
       "    this.send_message(\"ack\", {});\n",
       "}\n",
       "\n",
       "// A function to construct a web socket function for onmessage handling.\n",
       "// Called in the figure constructor.\n",
       "mpl.figure.prototype._make_on_message_function = function(fig) {\n",
       "    return function socket_on_message(evt) {\n",
       "        if (evt.data instanceof Blob) {\n",
       "            /* FIXME: We get \"Resource interpreted as Image but\n",
       "             * transferred with MIME type text/plain:\" errors on\n",
       "             * Chrome.  But how to set the MIME type?  It doesn't seem\n",
       "             * to be part of the websocket stream */\n",
       "            evt.data.type = \"image/png\";\n",
       "\n",
       "            /* Free the memory for the previous frames */\n",
       "            if (fig.imageObj.src) {\n",
       "                (window.URL || window.webkitURL).revokeObjectURL(\n",
       "                    fig.imageObj.src);\n",
       "            }\n",
       "\n",
       "            fig.imageObj.src = (window.URL || window.webkitURL).createObjectURL(\n",
       "                evt.data);\n",
       "            fig.updated_canvas_event();\n",
       "            fig.waiting = false;\n",
       "            return;\n",
       "        }\n",
       "        else if (typeof evt.data === 'string' && evt.data.slice(0, 21) == \"data:image/png;base64\") {\n",
       "            fig.imageObj.src = evt.data;\n",
       "            fig.updated_canvas_event();\n",
       "            fig.waiting = false;\n",
       "            return;\n",
       "        }\n",
       "\n",
       "        var msg = JSON.parse(evt.data);\n",
       "        var msg_type = msg['type'];\n",
       "\n",
       "        // Call the  \"handle_{type}\" callback, which takes\n",
       "        // the figure and JSON message as its only arguments.\n",
       "        try {\n",
       "            var callback = fig[\"handle_\" + msg_type];\n",
       "        } catch (e) {\n",
       "            console.log(\"No handler for the '\" + msg_type + \"' message type: \", msg);\n",
       "            return;\n",
       "        }\n",
       "\n",
       "        if (callback) {\n",
       "            try {\n",
       "                // console.log(\"Handling '\" + msg_type + \"' message: \", msg);\n",
       "                callback(fig, msg);\n",
       "            } catch (e) {\n",
       "                console.log(\"Exception inside the 'handler_\" + msg_type + \"' callback:\", e, e.stack, msg);\n",
       "            }\n",
       "        }\n",
       "    };\n",
       "}\n",
       "\n",
       "// from http://stackoverflow.com/questions/1114465/getting-mouse-location-in-canvas\n",
       "mpl.findpos = function(e) {\n",
       "    //this section is from http://www.quirksmode.org/js/events_properties.html\n",
       "    var targ;\n",
       "    if (!e)\n",
       "        e = window.event;\n",
       "    if (e.target)\n",
       "        targ = e.target;\n",
       "    else if (e.srcElement)\n",
       "        targ = e.srcElement;\n",
       "    if (targ.nodeType == 3) // defeat Safari bug\n",
       "        targ = targ.parentNode;\n",
       "\n",
       "    // jQuery normalizes the pageX and pageY\n",
       "    // pageX,Y are the mouse positions relative to the document\n",
       "    // offset() returns the position of the element relative to the document\n",
       "    var x = e.pageX - $(targ).offset().left;\n",
       "    var y = e.pageY - $(targ).offset().top;\n",
       "\n",
       "    return {\"x\": x, \"y\": y};\n",
       "};\n",
       "\n",
       "/*\n",
       " * return a copy of an object with only non-object keys\n",
       " * we need this to avoid circular references\n",
       " * http://stackoverflow.com/a/24161582/3208463\n",
       " */\n",
       "function simpleKeys (original) {\n",
       "  return Object.keys(original).reduce(function (obj, key) {\n",
       "    if (typeof original[key] !== 'object')\n",
       "        obj[key] = original[key]\n",
       "    return obj;\n",
       "  }, {});\n",
       "}\n",
       "\n",
       "mpl.figure.prototype.mouse_event = function(event, name) {\n",
       "    var canvas_pos = mpl.findpos(event)\n",
       "\n",
       "    if (name === 'button_press')\n",
       "    {\n",
       "        this.canvas.focus();\n",
       "        this.canvas_div.focus();\n",
       "    }\n",
       "\n",
       "    var x = canvas_pos.x * mpl.ratio;\n",
       "    var y = canvas_pos.y * mpl.ratio;\n",
       "\n",
       "    this.send_message(name, {x: x, y: y, button: event.button,\n",
       "                             step: event.step,\n",
       "                             guiEvent: simpleKeys(event)});\n",
       "\n",
       "    /* This prevents the web browser from automatically changing to\n",
       "     * the text insertion cursor when the button is pressed.  We want\n",
       "     * to control all of the cursor setting manually through the\n",
       "     * 'cursor' event from matplotlib */\n",
       "    event.preventDefault();\n",
       "    return false;\n",
       "}\n",
       "\n",
       "mpl.figure.prototype._key_event_extra = function(event, name) {\n",
       "    // Handle any extra behaviour associated with a key event\n",
       "}\n",
       "\n",
       "mpl.figure.prototype.key_event = function(event, name) {\n",
       "\n",
       "    // Prevent repeat events\n",
       "    if (name == 'key_press')\n",
       "    {\n",
       "        if (event.which === this._key)\n",
       "            return;\n",
       "        else\n",
       "            this._key = event.which;\n",
       "    }\n",
       "    if (name == 'key_release')\n",
       "        this._key = null;\n",
       "\n",
       "    var value = '';\n",
       "    if (event.ctrlKey && event.which != 17)\n",
       "        value += \"ctrl+\";\n",
       "    if (event.altKey && event.which != 18)\n",
       "        value += \"alt+\";\n",
       "    if (event.shiftKey && event.which != 16)\n",
       "        value += \"shift+\";\n",
       "\n",
       "    value += 'k';\n",
       "    value += event.which.toString();\n",
       "\n",
       "    this._key_event_extra(event, name);\n",
       "\n",
       "    this.send_message(name, {key: value,\n",
       "                             guiEvent: simpleKeys(event)});\n",
       "    return false;\n",
       "}\n",
       "\n",
       "mpl.figure.prototype.toolbar_button_onclick = function(name) {\n",
       "    if (name == 'download') {\n",
       "        this.handle_save(this, null);\n",
       "    } else {\n",
       "        this.send_message(\"toolbar_button\", {name: name});\n",
       "    }\n",
       "};\n",
       "\n",
       "mpl.figure.prototype.toolbar_button_onmouseover = function(tooltip) {\n",
       "    this.message.textContent = tooltip;\n",
       "};\n",
       "mpl.toolbar_items = [[\"Home\", \"Reset original view\", \"fa fa-home icon-home\", \"home\"], [\"Back\", \"Back to previous view\", \"fa fa-arrow-left icon-arrow-left\", \"back\"], [\"Forward\", \"Forward to next view\", \"fa fa-arrow-right icon-arrow-right\", \"forward\"], [\"\", \"\", \"\", \"\"], [\"Pan\", \"Pan axes with left mouse, zoom with right\", \"fa fa-arrows icon-move\", \"pan\"], [\"Zoom\", \"Zoom to rectangle\", \"fa fa-square-o icon-check-empty\", \"zoom\"], [\"\", \"\", \"\", \"\"], [\"Download\", \"Download plot\", \"fa fa-floppy-o icon-save\", \"download\"]];\n",
       "\n",
       "mpl.extensions = [\"eps\", \"pdf\", \"png\", \"ps\", \"raw\", \"svg\"];\n",
       "\n",
       "mpl.default_extension = \"png\";var comm_websocket_adapter = function(comm) {\n",
       "    // Create a \"websocket\"-like object which calls the given IPython comm\n",
       "    // object with the appropriate methods. Currently this is a non binary\n",
       "    // socket, so there is still some room for performance tuning.\n",
       "    var ws = {};\n",
       "\n",
       "    ws.close = function() {\n",
       "        comm.close()\n",
       "    };\n",
       "    ws.send = function(m) {\n",
       "        //console.log('sending', m);\n",
       "        comm.send(m);\n",
       "    };\n",
       "    // Register the callback with on_msg.\n",
       "    comm.on_msg(function(msg) {\n",
       "        //console.log('receiving', msg['content']['data'], msg);\n",
       "        // Pass the mpl event to the overridden (by mpl) onmessage function.\n",
       "        ws.onmessage(msg['content']['data'])\n",
       "    });\n",
       "    return ws;\n",
       "}\n",
       "\n",
       "mpl.mpl_figure_comm = function(comm, msg) {\n",
       "    // This is the function which gets called when the mpl process\n",
       "    // starts-up an IPython Comm through the \"matplotlib\" channel.\n",
       "\n",
       "    var id = msg.content.data.id;\n",
       "    // Get hold of the div created by the display call when the Comm\n",
       "    // socket was opened in Python.\n",
       "    var element = $(\"#\" + id);\n",
       "    var ws_proxy = comm_websocket_adapter(comm)\n",
       "\n",
       "    function ondownload(figure, format) {\n",
       "        window.open(figure.imageObj.src);\n",
       "    }\n",
       "\n",
       "    var fig = new mpl.figure(id, ws_proxy,\n",
       "                           ondownload,\n",
       "                           element.get(0));\n",
       "\n",
       "    // Call onopen now - mpl needs it, as it is assuming we've passed it a real\n",
       "    // web socket which is closed, not our websocket->open comm proxy.\n",
       "    ws_proxy.onopen();\n",
       "\n",
       "    fig.parent_element = element.get(0);\n",
       "    fig.cell_info = mpl.find_output_cell(\"<div id='\" + id + \"'></div>\");\n",
       "    if (!fig.cell_info) {\n",
       "        console.error(\"Failed to find cell for figure\", id, fig);\n",
       "        return;\n",
       "    }\n",
       "\n",
       "    var output_index = fig.cell_info[2]\n",
       "    var cell = fig.cell_info[0];\n",
       "\n",
       "};\n",
       "\n",
       "mpl.figure.prototype.handle_close = function(fig, msg) {\n",
       "    var width = fig.canvas.width/mpl.ratio\n",
       "    fig.root.unbind('remove')\n",
       "\n",
       "    // Update the output cell to use the data from the current canvas.\n",
       "    fig.push_to_output();\n",
       "    var dataURL = fig.canvas.toDataURL();\n",
       "    // Re-enable the keyboard manager in IPython - without this line, in FF,\n",
       "    // the notebook keyboard shortcuts fail.\n",
       "    IPython.keyboard_manager.enable()\n",
       "    $(fig.parent_element).html('<img src=\"' + dataURL + '\" width=\"' + width + '\">');\n",
       "    fig.close_ws(fig, msg);\n",
       "}\n",
       "\n",
       "mpl.figure.prototype.close_ws = function(fig, msg){\n",
       "    fig.send_message('closing', msg);\n",
       "    // fig.ws.close()\n",
       "}\n",
       "\n",
       "mpl.figure.prototype.push_to_output = function(remove_interactive) {\n",
       "    // Turn the data on the canvas into data in the output cell.\n",
       "    var width = this.canvas.width/mpl.ratio\n",
       "    var dataURL = this.canvas.toDataURL();\n",
       "    this.cell_info[1]['text/html'] = '<img src=\"' + dataURL + '\" width=\"' + width + '\">';\n",
       "}\n",
       "\n",
       "mpl.figure.prototype.updated_canvas_event = function() {\n",
       "    // Tell IPython that the notebook contents must change.\n",
       "    IPython.notebook.set_dirty(true);\n",
       "    this.send_message(\"ack\", {});\n",
       "    var fig = this;\n",
       "    // Wait a second, then push the new image to the DOM so\n",
       "    // that it is saved nicely (might be nice to debounce this).\n",
       "    setTimeout(function () { fig.push_to_output() }, 1000);\n",
       "}\n",
       "\n",
       "mpl.figure.prototype._init_toolbar = function() {\n",
       "    var fig = this;\n",
       "\n",
       "    var nav_element = $('<div/>');\n",
       "    nav_element.attr('style', 'width: 100%');\n",
       "    this.root.append(nav_element);\n",
       "\n",
       "    // Define a callback function for later on.\n",
       "    function toolbar_event(event) {\n",
       "        return fig.toolbar_button_onclick(event['data']);\n",
       "    }\n",
       "    function toolbar_mouse_event(event) {\n",
       "        return fig.toolbar_button_onmouseover(event['data']);\n",
       "    }\n",
       "\n",
       "    for(var toolbar_ind in mpl.toolbar_items){\n",
       "        var name = mpl.toolbar_items[toolbar_ind][0];\n",
       "        var tooltip = mpl.toolbar_items[toolbar_ind][1];\n",
       "        var image = mpl.toolbar_items[toolbar_ind][2];\n",
       "        var method_name = mpl.toolbar_items[toolbar_ind][3];\n",
       "\n",
       "        if (!name) { continue; };\n",
       "\n",
       "        var button = $('<button class=\"btn btn-default\" href=\"#\" title=\"' + name + '\"><i class=\"fa ' + image + ' fa-lg\"></i></button>');\n",
       "        button.click(method_name, toolbar_event);\n",
       "        button.mouseover(tooltip, toolbar_mouse_event);\n",
       "        nav_element.append(button);\n",
       "    }\n",
       "\n",
       "    // Add the status bar.\n",
       "    var status_bar = $('<span class=\"mpl-message\" style=\"text-align:right; float: right;\"/>');\n",
       "    nav_element.append(status_bar);\n",
       "    this.message = status_bar[0];\n",
       "\n",
       "    // Add the close button to the window.\n",
       "    var buttongrp = $('<div class=\"btn-group inline pull-right\"></div>');\n",
       "    var button = $('<button class=\"btn btn-mini btn-primary\" href=\"#\" title=\"Stop Interaction\"><i class=\"fa fa-power-off icon-remove icon-large\"></i></button>');\n",
       "    button.click(function (evt) { fig.handle_close(fig, {}); } );\n",
       "    button.mouseover('Stop Interaction', toolbar_mouse_event);\n",
       "    buttongrp.append(button);\n",
       "    var titlebar = this.root.find($('.ui-dialog-titlebar'));\n",
       "    titlebar.prepend(buttongrp);\n",
       "}\n",
       "\n",
       "mpl.figure.prototype._root_extra_style = function(el){\n",
       "    var fig = this\n",
       "    el.on(\"remove\", function(){\n",
       "\tfig.close_ws(fig, {});\n",
       "    });\n",
       "}\n",
       "\n",
       "mpl.figure.prototype._canvas_extra_style = function(el){\n",
       "    // this is important to make the div 'focusable\n",
       "    el.attr('tabindex', 0)\n",
       "    // reach out to IPython and tell the keyboard manager to turn it's self\n",
       "    // off when our div gets focus\n",
       "\n",
       "    // location in version 3\n",
       "    if (IPython.notebook.keyboard_manager) {\n",
       "        IPython.notebook.keyboard_manager.register_events(el);\n",
       "    }\n",
       "    else {\n",
       "        // location in version 2\n",
       "        IPython.keyboard_manager.register_events(el);\n",
       "    }\n",
       "\n",
       "}\n",
       "\n",
       "mpl.figure.prototype._key_event_extra = function(event, name) {\n",
       "    var manager = IPython.notebook.keyboard_manager;\n",
       "    if (!manager)\n",
       "        manager = IPython.keyboard_manager;\n",
       "\n",
       "    // Check for shift+enter\n",
       "    if (event.shiftKey && event.which == 13) {\n",
       "        this.canvas_div.blur();\n",
       "        event.shiftKey = false;\n",
       "        // Send a \"J\" for go to next cell\n",
       "        event.which = 74;\n",
       "        event.keyCode = 74;\n",
       "        manager.command_mode();\n",
       "        manager.handle_keydown(event);\n",
       "    }\n",
       "}\n",
       "\n",
       "mpl.figure.prototype.handle_save = function(fig, msg) {\n",
       "    fig.ondownload(fig, null);\n",
       "}\n",
       "\n",
       "\n",
       "mpl.find_output_cell = function(html_output) {\n",
       "    // Return the cell and output element which can be found *uniquely* in the notebook.\n",
       "    // Note - this is a bit hacky, but it is done because the \"notebook_saving.Notebook\"\n",
       "    // IPython event is triggered only after the cells have been serialised, which for\n",
       "    // our purposes (turning an active figure into a static one), is too late.\n",
       "    var cells = IPython.notebook.get_cells();\n",
       "    var ncells = cells.length;\n",
       "    for (var i=0; i<ncells; i++) {\n",
       "        var cell = cells[i];\n",
       "        if (cell.cell_type === 'code'){\n",
       "            for (var j=0; j<cell.output_area.outputs.length; j++) {\n",
       "                var data = cell.output_area.outputs[j];\n",
       "                if (data.data) {\n",
       "                    // IPython >= 3 moved mimebundle to data attribute of output\n",
       "                    data = data.data;\n",
       "                }\n",
       "                if (data['text/html'] == html_output) {\n",
       "                    return [cell, data, j];\n",
       "                }\n",
       "            }\n",
       "        }\n",
       "    }\n",
       "}\n",
       "\n",
       "// Register the function which deals with the matplotlib target/channel.\n",
       "// The kernel may be null if the page has been refreshed.\n",
       "if (IPython.notebook.kernel != null) {\n",
       "    IPython.notebook.kernel.comm_manager.register_target('matplotlib', mpl.mpl_figure_comm);\n",
       "}\n"
      ],
      "text/plain": [
       "<IPython.core.display.Javascript object>"
      ]
     },
     "metadata": {},
     "output_type": "display_data"
    },
    {
     "data": {
      "text/html": [
       "<img src=\"data:image/png;base64,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\" width=\"640\">"
      ],
      "text/plain": [
       "<IPython.core.display.HTML object>"
      ]
     },
     "metadata": {},
     "output_type": "display_data"
    }
   ],
   "source": [
    "ax = _plot_mult(output_list)"
   ]
  },
  {
   "cell_type": "markdown",
   "metadata": {
    "slideshow": {
     "slide_type": "slide"
    }
   },
   "source": [
    "<center><video style=\"width:80%\" autoplay=True loop=True controls src=\"../images/center.mp4\" /></center>"
   ]
  }
 ],
 "metadata": {
  "celltoolbar": "Slideshow",
  "kernelspec": {
   "display_name": "Firedrake",
   "language": "python",
   "name": "firedrake"
  },
  "language_info": {
   "codemirror_mode": {
    "name": "ipython",
    "version": 3
   },
   "file_extension": ".py",
   "mimetype": "text/x-python",
   "name": "python",
   "nbconvert_exporter": "python",
   "pygments_lexer": "ipython3",
   "version": "3.7.4"
  },
  "livereveal": {
   "scroll": true
  }
 },
 "nbformat": 4,
 "nbformat_minor": 2
}
